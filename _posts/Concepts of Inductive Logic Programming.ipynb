{
 "cells": [
  {
   "cell_type": "markdown",
   "metadata": {},
   "source": [
    "## Horn Clause"
   ]
  },
  {
   "cell_type": "markdown",
   "metadata": {},
   "source": [
    "Horn clause: a clause(a disjunction of literals) with at most one positive literal.     \n",
    "A Horn clause with exactly one positive literal is a definite clause.     \n",
    "A Horn clasue with no positive literals is called a goal clause, especially in logic programming.    \n",
    "A Horn formula is a conjunctive normal form formula whose clauses are all Horn; that is, it is a conjunction of Horn clauses.      \n",
    "A definite Horn clause:    \n",
    "$\\lnot p \\lor \\lnot q \\lor ...\\lor \\lnot t \\lor u$    \n",
    "=$\\lnot(p \\land q \\land  ...\\land  t) \\lor u$     \n",
    "=$(p \\land q \\land  ...\\land  t) \\to u$"
   ]
  },
  {
   "cell_type": "markdown",
   "metadata": {},
   "source": [
    "The resolution of two Horn clauses is a Horn clause.    \n",
    "The resolution of a goal clause and a definite clause is again a goal clause.\n",
    "In automated theorem proving, this can lead to greater efficiencies in proving a theorem(represented as a goal clause)."
   ]
  },
  {
   "cell_type": "markdown",
   "metadata": {},
   "source": [
    "## Logic programs"
   ]
  },
  {
   "cell_type": "markdown",
   "metadata": {},
   "source": [
    "Logic programs consist of clauses. The conclusion part of a clause is termed the head and the condition part the body of the clause.    \n",
    "The head and boy of a clause consist of atoms.    \n",
    "An atom being a predicate applied to some arguments, which are called terms.    \n",
    "a gound term: a term that does not contain any free variables.    \n",
    "E.G.    \n",
    "$father(X,Y) \\lor mother(X,Y) \\Leftarrow parent(X,Y)$    \n",
    "$parent(X,Y)$ is body of clause.    \n",
    "$father(X,Y) \\lor mother(X,Y)$ is the head.     \n",
    "$parent, father, mother$ are predicates.    \n",
    "$X, Y$ are variables.    \n",
    "$father(X,Y), mother(X,Y), parent(X,Y)$ are atoms.    \n",
    "In PROLOG, variables in clauses are implicitly universally quantified.  \n",
    "Clauses are also view as sets of literals. A literal is an atom or its negation: $father(X,Y) \\lor mother(X,Y) \\lor \\lnot parent(X,Y)$\n"
   ]
  },
  {
   "cell_type": "markdown",
   "metadata": {},
   "source": [
    "$\\textbf{definite clauses}$ contain exactly one atom in the head:    \n",
    "$ancestor(X,Y) \\Leftarrow parent(Z,Y) \\land ancestor(X,Z)$, which also a recursive clause.        \n",
    "$\\textbf{full clauses}$:    \n",
    "$father(X,Y) \\lor mother(X,Y) \\Leftarrow parent(X,Y)$    \n",
    "$\\textbf{program clauses}$ can contain negated atoms:     \n",
    "$mother(X,Y) \\Leftarrow parent(X,Y) \\land \\lnot male(X)$     "
   ]
  },
  {
   "cell_type": "markdown",
   "metadata": {},
   "source": [
    "## ILP\n",
    "Inductive logic programming is concerned with inductive inference. It generalizes from individual instances/observations in the presence of background knowledge, finding regularities or hypotheses about yet unseen instances.    \n",
    "From training examples, ILP then induces a logic program(predicate definition) corresponding to a view that defines the target relation in terms of other relations that are given as background knowledge.    "
   ]
  },
  {
   "cell_type": "markdown",
   "metadata": {},
   "source": [
    "### The Problem Specification"
   ]
  },
  {
   "cell_type": "markdown",
   "metadata": {},
   "source": [
    "Given is a set of examples, positive examples and negative examples.     \n",
    "Given are also background relations.     \n",
    "Finally, a hypothesis language, specifying syntatic restrictions on the definition of p is also given.   \n",
    "The task is to find a definiton of the target relation p that is consitent and complete, i.e., explains all the positive and none of the negative tuples.     \n",
    "$ E = P \\cup N, B$    \n",
    "The task is to find a hypothesis H such that $\\forall e \\in P: B \\land H \\vDash e$(H is complete) and $ \\forall e \\in N: B \\land H \\nvDash e$(H is consistent)"
   ]
  },
  {
   "cell_type": "markdown",
   "metadata": {},
   "source": [
    "### A Common Aprroach\n",
    "Use a greedy covering algorithm     \n",
    "Repeat while some posititive examples remain unvovered(not entailed):    \n",
    "    - Find a good clause(one that covers as many positive examples as possible but no/few nagatives)\n",
    "    - Add that clause to the current theory, and remove the positve examples that it covers.\n",
    "\n",
    "ILP algorithms use this apprach but vary in thir method for $\\textbf{finding a good clause}$.       \n",
    "\n",
    "In a main loop, a covering algorithm constructs a set of clauses.     \n",
    "Starting from an empty set of clauses,\n",
    "    - it constructs a clause explaining some of the positive examples    \n",
    "    - adds this to the hypothesis, and removes the positive exaples explained    \n",
    "Repeat untill all positive examples have been explained.(The hypothesis is complete.)     \n",
    "\n",
    "In the inner loop of the covering algorithm, individual clauses are constructed by (heuristically) searching the space of possible clauses, structured by a specialization or generalization operator.\n"
   ]
  },
  {
   "cell_type": "markdown",
   "metadata": {},
   "source": [
    "### Structuring the space of clauses\n",
    "In order to search the space of relational rules systematically, it is useful to impose some structure upon it, e.g., an ordering. One such ordering is based on $\\theta$-subsumption."
   ]
  },
  {
   "cell_type": "markdown",
   "metadata": {},
   "source": [
    "A substitution $\\theta$ = {$V_1/t_1,..., V_n/t_n$} is an assignment of terms $t_i$ to $V_i$. Applying a substitution $\\theta$ to a term, atom, or clause F yields the instantiated term, atom, or clause $F\\theta$.    \n",
    "Let c and c' be two program clauses.    \n",
    "Clause c $\\theta$-subsumes c' if there exists a substitution $\\theta$ that can be applied to c, such that $c\\theta \\subseteq c'$      \n",
    "\n",
    "Example:      \n",
    "Clause c = $daughter(X,Y)\\leftarrow parent(Y,X)$    \n",
    "Clause c' = $daughter(mary,ann) \\leftarrow parent(ann, mary), female(mary), parent(ann,tom)$     \n",
    "\n",
    "Applying the substitution $\\theta$ = {X/mary, Y/ann} to c yields    \n",
    "$c\\theta$ = $daughter(mary,ann)\\leftarrow parent(ann,mary)$    \n",
    "Clauses can be viewed as sets of literals:      \n",
    "the clausal notation, $daughter(X,Y)\\leftarrow parent(Y,X)$ thus stands for {daughter(X,Y), $\\lnot$parent(Y,X)} where all variables are assumed to be universally quantified.    \n"
   ]
  },
  {
   "cell_type": "markdown",
   "metadata": {},
   "source": [
    "$\\theta$-subsumption introduces a syntactic notion for generality.    \n",
    "Clause c is at least as general as c' if c $\\theta$-subsumes c'($c\\theta \\subseteq c'$)    \n",
    "if $c\\theta \\subset c'$ holds, but $c\\theta \\subseteq c'$ doesn't hold, then c is more general than c'.    \n",
    "In this case, c is a generalization of c'. c' is a specialzation of c. c' is called a refinement of c.    \n",
    "$c \\vDash c'$ if c $\\theta$-subsumes c'    \n",
    "c is more general than c' if $c \\vDash c'$    "
   ]
  },
  {
   "cell_type": "markdown",
   "metadata": {},
   "source": [
    "$\\theta$-subsumption introduces a lattice on the set of reduced clauses: this enables ILP systems to prune large parts of the search space.     \n",
    "$\\theta$-subsumption also provdes the basis for clause construction by to-down searching of refinement graphs and bounding the search of refinement graphs from below by using a bottom clause."
   ]
  },
  {
   "cell_type": "markdown",
   "metadata": {},
   "source": [
    "### Searching the space of clauses\n",
    "$\\textbf{A top-down manner}$: from general to specific hypotheses, using a $\\theta$-subsumption-based specialization operator(a refinement operator).     \n",
    "Given a hypothesis language L,     \n",
    "a refinement operator P maps a clause c to a set of clauses p(c) which are specializations(refinements) of c:    \n",
    "p(c) = {c'|c'$\\in$ L, c < c'}"
   ]
  },
  {
   "cell_type": "markdown",
   "metadata": {},
   "source": [
    "The hypothesis space of program clauses is a lattice, structured by the $\\theta$-subsumption generality ordering.    \n",
    "In this lattice, a refinement graph can be defined as a directed, asyclic graph in which     \n",
    "nodes are program clauses and     \n",
    "arcs correspond to the basic refinement operations:     \n",
    "- substituting a variable with a term, \n",
    "- adding a literal to the body of a clause."
   ]
  },
  {
   "cell_type": "markdown",
   "metadata": {},
   "source": [
    "#### Refinement Graph(Lattice)"
   ]
  },
  {
   "cell_type": "markdown",
   "metadata": {},
   "source": [
    "<img src=\"refinementgraph.png\"\n",
    "     alt=\"refinement graph\"\n",
    "     style=\"float: left; margin-right: 10px;\" />"
   ]
  },
  {
   "cell_type": "markdown",
   "metadata": {},
   "source": [
    "The task is to learn a definition of the daughter relation in terms of the relation female and parent.    \n"
   ]
  },
  {
   "cell_type": "markdown",
   "metadata": {},
   "source": [
    "The refinement graph is typically searched heuristically level-wise, using heuristics based on the number of positive and negative examples covered by a clause.     \n",
    "As the branching factor is very large, greedy search methods are typically applied which only consider a limited number of alternatives at each level.  Hill-climbing considers only one best alternative at each level, while beam search considers n best alternatives, where n is the beam width. Occasionally, complete search is used, e.g. A* best-first search or breadth-first search. This search can be found from below by using so-called bottom clauses, which can be constructed by least general generalization.    \n"
   ]
  },
  {
   "cell_type": "markdown",
   "metadata": {},
   "source": [
    "Reference: Data Mining and Knowledge Discovery Handbook, Second Ediction"
   ]
  },
  {
   "cell_type": "code",
   "execution_count": null,
   "metadata": {},
   "outputs": [],
   "source": []
  }
 ],
 "metadata": {
  "kernelspec": {
   "display_name": "Python 3",
   "language": "python",
   "name": "python3"
  },
  "language_info": {
   "codemirror_mode": {
    "name": "ipython",
    "version": 3
   },
   "file_extension": ".py",
   "mimetype": "text/x-python",
   "name": "python",
   "nbconvert_exporter": "python",
   "pygments_lexer": "ipython3",
   "version": "3.6.1"
  },
  "toc": {
   "colors": {
    "hover_highlight": "#DAA520",
    "navigate_num": "#000000",
    "navigate_text": "#333333",
    "running_highlight": "#FF0000",
    "selected_highlight": "#FFD700",
    "sidebar_border": "#EEEEEE",
    "wrapper_background": "#FFFFFF"
   },
   "moveMenuLeft": true,
   "nav_menu": {
    "height": "156px",
    "width": "252px"
   },
   "navigate_menu": true,
   "number_sections": true,
   "sideBar": true,
   "threshold": 4,
   "toc_cell": false,
   "toc_section_display": "block",
   "toc_window_display": false,
   "widenNotebook": false
  }
 },
 "nbformat": 4,
 "nbformat_minor": 2
}

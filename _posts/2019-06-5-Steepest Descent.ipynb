{
 "cells": [
  {
   "cell_type": "markdown",
   "metadata": {},
   "source": [
    "# The exact(optimal) steepest descent algorithm"
   ]
  },
  {
   "cell_type": "markdown",
   "metadata": {},
   "source": [
    "This algorithm finds a local minimum of f(x) when given the derivative of f(x).\n",
    "In each iteration, it finds the optimal step to take."
   ]
  },
  {
   "cell_type": "markdown",
   "metadata": {},
   "source": [
    "# Example\n",
    "Find the local minimum of $f(x) = x_1^2 + 2x_2^2$."
   ]
  },
  {
   "cell_type": "code",
   "execution_count": 146,
   "metadata": {},
   "outputs": [],
   "source": [
    "from sympy import Symbol, Derivative,sympify\n",
    "import numpy as np\n",
    "import sympy as sym"
   ]
  },
  {
   "cell_type": "code",
   "execution_count": 181,
   "metadata": {},
   "outputs": [
    {
     "name": "stdout",
     "output_type": "stream",
     "text": [
      "funX: x1**2 + 2*x2**2\n",
      "derivative: [2*x1, 4*x2]\n",
      "f: 3\n",
      "[2 4]\n"
     ]
    }
   ],
   "source": [
    "# derivative\n",
    "def getDeri(funX, xs):\n",
    "    '''\n",
    "    x in xs should be the symbol in the function.\n",
    "    '''\n",
    "    deltafunX = []\n",
    "    for x in xs:\n",
    "        deriv= Derivative(funX, x)\n",
    "        deltafunX.append(deriv.doit())\n",
    "    return(deltafunX)\n",
    "\n",
    "# evaluate function\n",
    "def evalFun(funX, xs, values):\n",
    "    '''\n",
    "    xs is the list of variables\n",
    "    values is the list of corresponding values of the variables.\n",
    "    '''\n",
    "    values_dict = {}\n",
    "    for i, x in enumerate(xs):\n",
    "        values_dict[x] = values[i]\n",
    "        \n",
    "    return(funX.subs(values_dict))\n",
    "\n",
    "# evaluate derivative function\n",
    "def evalDeri(deltafunXs, xs, values):\n",
    "    '''\n",
    "    xs is the list of variables\n",
    "    values is the list of corresponding values of the variables.\n",
    "    '''\n",
    "    delta = []\n",
    "    for i, x in enumerate(xs):\n",
    "        values_dict = {}\n",
    "        values_dict[x] = values[i]\n",
    "        expr = sympify(deltafunXs[i])\n",
    "        ret = expr.subs(values_dict)\n",
    "        delta.append(ret)\n",
    "        \n",
    "    return(np.array(delta))\n",
    "\n",
    "def exact_SD(funX, deltafunX, xs):\n",
    "    '''\n",
    "    The exact steepest descent algorithm.\n",
    "    return [x1,x2,...] where the funX reaches a local minimum\n",
    "    '''\n",
    "    DEBUG = False\n",
    "    # initial guess\n",
    "    length = len(xs)\n",
    "    x = np.ones(length)\n",
    "    while(True):\n",
    "        f = evalFun(funX, xs, x)\n",
    "        delta = evalDeri(deltafunX, xs, x)\n",
    "        r = - delta\n",
    "        r_sum = sum(abs(r))\n",
    "        if(r_sum < 0.005):\n",
    "            if(DEBUG):\n",
    "                print('f: delta: r = ', f, delta, float(r_sum))\n",
    "            return(x)\n",
    "        t= Symbol('t')\n",
    "        FunT = getFunX(x[0]+t*r[0], x[1]+t*r[1])\n",
    "        detalFunT = getDeri(FunT, [t])\n",
    "        EQ = sym.Eq(detalFunT[0],0)\n",
    "        t = sym.solve([EQ],(t))\n",
    "        t = list(t.values())[0]\n",
    "    \n",
    "        x = x + t*r\n",
    "    \n",
    "# function\n",
    "def getFunX2(x1, x2):\n",
    "    '''Just an example'''\n",
    "    funX= x1**2 + 2*x2**2\n",
    "    return funX\n",
    "\n",
    "# DEBUG\n",
    "x1= Symbol('x1')\n",
    "x2= Symbol('x2')\n",
    "xs = [x1, x2]\n",
    "funX = getFunX(x1, x2)\n",
    "print('funX:',funX)\n",
    "deltafunX = getDeri(funX, xs)\n",
    "print('derivative:', deltafunX)\n",
    "x = np.array([1,1])\n",
    "f = evalFun(funX, xs, x)\n",
    "print('f:', f)\n",
    "delta = evalDeri(deltafunX, xs, x)\n",
    "print(delta)\n",
    "# END"
   ]
  },
  {
   "cell_type": "code",
   "execution_count": 182,
   "metadata": {},
   "outputs": [
    {
     "name": "stdout",
     "output_type": "stream",
     "text": [
      "funX: x1**2 + 2*x2**2\n",
      "derivative: [2*x1, 4*x2]\n",
      "[0.000406442107402327 0.000406442107402327]\n"
     ]
    }
   ],
   "source": [
    "x1= Symbol('x1')\n",
    "x2= Symbol('x2')\n",
    "xs = [x1, x2]\n",
    "funX = getFunX2(x1, x2)\n",
    "print('funX:',funX)\n",
    "deltafunX = getDeri(funX, xs)\n",
    "print('derivative:', deltafunX)\n",
    "ret = exact_SD(funX, deltafunX, xs)\n",
    "print(ret)"
   ]
  },
  {
   "cell_type": "code",
   "execution_count": 187,
   "metadata": {},
   "outputs": [
    {
     "name": "stdout",
     "output_type": "stream",
     "text": [
      "funX: x**2 + 2*y**2 + 0.5*z**2\n",
      "derivative: [2*x, 4*y, 1.0*z]\n",
      "[7.34200829642852e-8 -1.83550207410707e-8 0.00403828247465437]\n"
     ]
    }
   ],
   "source": [
    "def getFunX3(x1, x2, x3):\n",
    "    '''Just an example'''\n",
    "    funX= x1**2 + 2*x2**2 + 0.5*x3**2\n",
    "    return funX\n",
    "\n",
    "x1= Symbol('x')\n",
    "x2= Symbol('y')\n",
    "x3= Symbol('z')\n",
    "xs = [x1, x2, x3]\n",
    "funX = getFunX3(x1, x2, x3)\n",
    "print('funX:',funX)\n",
    "deltafunX = getDeri(funX, xs)\n",
    "print('derivative:', deltafunX)\n",
    "ret = exact_SD(funX, deltafunX, xs)\n",
    "print(ret)"
   ]
  },
  {
   "cell_type": "markdown",
   "metadata": {},
   "source": [
    "# The e-step steepest descent algorithm"
   ]
  },
  {
   "cell_type": "code",
   "execution_count": 194,
   "metadata": {},
   "outputs": [],
   "source": [
    "def e_SD(funX, deltafunX, xs, e):\n",
    "    '''\n",
    "    The e-step steepest descent algorithm.\n",
    "    return [x1,x2,...] where the funX reaches a local minimum\n",
    "    '''\n",
    "    DEBUG = False\n",
    "    # initial guess\n",
    "    length = len(xs)\n",
    "    x = np.ones(length)\n",
    "    while(True):\n",
    "        f = evalFun(funX, xs, x)\n",
    "        delta = evalDeri(deltafunX, xs, x)\n",
    "        r = - delta\n",
    "        r_sum = sum(abs(r))\n",
    "        if(r_sum < 0.005):\n",
    "            if(DEBUG):\n",
    "                print('f: delta: r = ', f, delta, float(r_sum))\n",
    "            return(x)\n",
    "        x = x + e*r"
   ]
  },
  {
   "cell_type": "code",
   "execution_count": 199,
   "metadata": {},
   "outputs": [
    {
     "name": "stdout",
     "output_type": "stream",
     "text": [
      "funX: x1**2 + 2*x2**2\n",
      "derivative: [2*x1, 4*x2]\n",
      "[0.00241785163922926 1.02349036907747e-6]\n"
     ]
    }
   ],
   "source": [
    "x1= Symbol('x1')\n",
    "x2= Symbol('x2')\n",
    "xs = [x1, x2]\n",
    "funX = getFunX2(x1, x2)\n",
    "print('funX:',funX)\n",
    "deltafunX = getDeri(funX, xs)\n",
    "print('derivative:', deltafunX)\n",
    "ret = e_SD(funX, deltafunX, xs, 0.1)\n",
    "print(ret)"
   ]
  },
  {
   "cell_type": "markdown",
   "metadata": {},
   "source": [
    "# Premilary"
   ]
  },
  {
   "cell_type": "code",
   "execution_count": 188,
   "metadata": {},
   "outputs": [
    {
     "data": {
      "image/png": "[encoded data removed]",
      "text/latex": [
       "$$3$$"
      ],
      "text/plain": [
       "3"
      ]
     },
     "execution_count": 188,
     "metadata": {},
     "output_type": "execute_result"
    }
   ],
   "source": [
    "x = 1\n",
    "eval(\"2*x+1\")"
   ]
  },
  {
   "cell_type": "code",
   "execution_count": 189,
   "metadata": {},
   "outputs": [
    {
     "name": "stdout",
     "output_type": "stream",
     "text": [
      "[2. 4. 3.]\n"
     ]
    }
   ],
   "source": [
    "import numpy as np\n",
    "from scipy.optimize import fsolve\n",
    "\n",
    "def myFunction(z):\n",
    "   x = z[0]\n",
    "   y = z[1]\n",
    "   w = z[2]\n",
    "\n",
    "   F = np.empty((3))\n",
    "   F[0] = x**2+y**2-20\n",
    "   F[1] = y - x**2\n",
    "   F[2] = w + 5 - x*y\n",
    "   return F\n",
    "\n",
    "zGuess = np.array([1,1,1])\n",
    "z = fsolve(myFunction,zGuess)\n",
    "print(z)"
   ]
  },
  {
   "cell_type": "code",
   "execution_count": 190,
   "metadata": {},
   "outputs": [
    {
     "data": {
      "image/png": "[encoded data removed]",
      "text/latex": [
       "$$\\left [ \\left ( - \\frac{1}{2} + \\frac{\\sqrt{3}}{2}, \\quad c_{1} - \\frac{3 \\sqrt{3}}{2} + \\frac{3}{2}, \\quad - c_{1} - \\frac{5}{2} + \\frac{5 \\sqrt{3}}{2}\\right ), \\quad \\left ( - \\frac{\\sqrt{3}}{2} - \\frac{1}{2}, \\quad c_{1} + \\frac{3}{2} + \\frac{3 \\sqrt{3}}{2}, \\quad - c_{1} - \\frac{5 \\sqrt{3}}{2} - \\frac{5}{2}\\right )\\right ]$$"
      ],
      "text/plain": [
       "⎡⎛  1   √3       3⋅√3   3        5   5⋅√3⎞  ⎛  √3   1       3   3⋅√3        5⋅\n",
       "⎢⎜- ─ + ──, c₁ - ──── + ─, -c₁ - ─ + ────⎟, ⎜- ── - ─, c₁ + ─ + ────, -c₁ - ──\n",
       "⎣⎝  2   2         2     2        2    2  ⎠  ⎝  2    2       2    2           2\n",
       "\n",
       "√3   5⎞⎤\n",
       "── - ─⎟⎥\n",
       "     2⎠⎦"
      ]
     },
     "execution_count": 190,
     "metadata": {},
     "output_type": "execute_result"
    }
   ],
   "source": [
    "import sympy as sym\n",
    "sym.init_printing()\n",
    "x,y,z = sym.symbols('x,y,z')\n",
    "c1 = sym.Symbol('c1')\n",
    "\n",
    "f = sym.Eq(2*x**2+y+z,1)\n",
    "g = sym.Eq(x+2*y+z,c1)\n",
    "h = sym.Eq(-2*x+y,-z)\n",
    "\n",
    "sym.solve([f,g,h],(x,y,z))"
   ]
  },
  {
   "cell_type": "code",
   "execution_count": 191,
   "metadata": {},
   "outputs": [
    {
     "name": "stdout",
     "output_type": "stream",
     "text": [
      "5/18\n"
     ]
    }
   ],
   "source": [
    "sym.init_printing()\n",
    "t= sym.symbols('t')\n",
    "f = sym.Eq(-4+8*t-16+64*t,0)\n",
    "\n",
    "t = sym.solve([f],(t))\n",
    "t = list(t.values())[0]\n",
    "print(t)"
   ]
  },
  {
   "cell_type": "code",
   "execution_count": 192,
   "metadata": {},
   "outputs": [
    {
     "data": {
      "image/png": "[encoded data removed]",
      "text/latex": [
       "$$4 x^{3} + 21 x^{2}$$"
      ],
      "text/plain": [
       "   3       2\n",
       "4⋅x  + 21⋅x "
      ]
     },
     "execution_count": 192,
     "metadata": {},
     "output_type": "execute_result"
    }
   ],
   "source": [
    "from sympy import Symbol, Derivative\n",
    "\n",
    "x= Symbol('x')\n",
    "\n",
    "function= x**4 + 7*x**3 + 8\n",
    "\n",
    "deriv= Derivative(function, x)\n",
    "deriv.doit()"
   ]
  },
  {
   "cell_type": "code",
   "execution_count": null,
   "metadata": {},
   "outputs": [],
   "source": []
  }
 ],
 "metadata": {
  "kernelspec": {
   "display_name": "Python 3",
   "language": "python",
   "name": "python3"
  },
  "language_info": {
   "codemirror_mode": {
    "name": "ipython",
    "version": 3
   },
   "file_extension": ".py",
   "mimetype": "text/x-python",
   "name": "python",
   "nbconvert_exporter": "python",
   "pygments_lexer": "ipython3",
   "version": "3.6.8"
  },
  "toc": {
   "colors": {
    "hover_highlight": "#DAA520",
    "navigate_num": "#000000",
    "navigate_text": "#333333",
    "running_highlight": "#FF0000",
    "selected_highlight": "#FFD700",
    "sidebar_border": "#EEEEEE",
    "wrapper_background": "#FFFFFF"
   },
   "moveMenuLeft": true,
   "nav_menu": {
    "height": "66px",
    "width": "252px"
   },
   "navigate_menu": true,
   "number_sections": true,
   "sideBar": true,
   "threshold": 4,
   "toc_cell": false,
   "toc_section_display": "block",
   "toc_window_display": false,
   "widenNotebook": false
  }
 },
 "nbformat": 4,
 "nbformat_minor": 2
}

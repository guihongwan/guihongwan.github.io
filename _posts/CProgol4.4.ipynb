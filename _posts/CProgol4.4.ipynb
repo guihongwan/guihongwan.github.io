{
 "cells": [
  {
   "cell_type": "markdown",
   "metadata": {},
   "source": [
    "# Inductive Inference vs Deductive Inference\n",
    "Deductive inference proceeds by application of sound rules of inference.    \n",
    "Inductive inference is, in a sense, the inverse of deduction.    \n",
    "Inductive inference typically involes unsound conjecture.     "
   ]
  },
  {
   "cell_type": "markdown",
   "metadata": {},
   "source": [
    "Given $ E = P \\cup N, B$    \n",
    "The task is to find a hypothesis H such that    \n",
    "$\\forall e \\in P: B \\land H \\vDash e$(H is complete) and $ \\forall e \\in N: B \\land H \\nvDash e$(H is consistent)"
   ]
  },
  {
   "cell_type": "markdown",
   "metadata": {},
   "source": [
    "The Progol system uses an approach to the general problem of ILP called mode directed inverse entailment(MDIE).    \n",
    "Horn clauses: $P1 \\land P2 \\land ...\\land P_n \\rightarrow Q$ Pi and Q are non-negated atoms.        \n",
    "The problem is:    \n",
    "$B \\land H \\vDash E$    \n",
    "By constraposition, we get $B \\land \\lnot E \\vDash \\lnot H$  "
   ]
  },
  {
   "cell_type": "markdown",
   "metadata": {},
   "source": [
    "# Inductive inference rules"
   ]
  },
  {
   "cell_type": "markdown",
   "metadata": {},
   "source": [
    "lower-case letters represent propositional variables; and upper-case letters represent conjunctions of propositional variables.    \n",
    "Absorption: ${p \\leftarrow A, B, q \\leftarrow A} \\over {p \\leftarrow q, B, q \\leftarrow A}$    \n",
    "Identification: ${p \\leftarrow A, B, p \\leftarrow A, q} \\over {q \\leftarrow B, p \\leftarrow A,q}$    \n",
    "Intra-construction: ${p \\leftarrow A, B, p \\leftarrow A, C} \\over {q \\leftarrow B, q \\leftarrow C, p \\leftarrow A,q}$    \n",
    "Inter-construction: ${p \\leftarrow A, B, p \\leftarrow A, C} \\over {r \\leftarrow A, p \\leftarrow r,B, q \\leftarrow r, C}$    "
   ]
  },
  {
   "cell_type": "markdown",
   "metadata": {},
   "source": [
    "Duce's inference rules invert single-depth applications of resolution. Using the rules, a set of resolution-based trees for deriving the examples can be constructed backwards from their roots.     \n",
    "The set of leaves of the trees represent a theory from which the examples can be derived.     \n",
    "In the process new proposition sysmbols, not found in the examples, can be 'invented' by the intra and inter-construction rules."
   ]
  },
  {
   "cell_type": "markdown",
   "metadata": {},
   "source": [
    "# Eliminate Existential Quantifiers: Skolemization  \n",
    "$\\exists x, Crown(x) \\land OnHead(x, John)$    \n",
    "$Crown(C) \\land OnHead(C, John)$\n",
    "- Provided C is not mentioned anywhere else\n",
    "- Skolem Constant    \n",
    "\n",
    "$\\forall x, \\exists y, father(y,x)$ becomes $\\forall x, father(S1(x),x)$     \n",
    "- Skolem function"
   ]
  },
  {
   "cell_type": "markdown",
   "metadata": {},
   "source": [
    "# Progol"
   ]
  },
  {
   "cell_type": "markdown",
   "metadata": {},
   "source": [
    "Input files: mode declarations, type definitions, background knowledge, examples and integrity constraints.    \n",
    "mode declarations:     \n",
    ":- modeh(1,aunt_of(+person,+person))?    \n",
    ":- modeb(*,parent_of(-person,+person))?\n",
    ":- modeb(*,parent_of(+person,-person))?\n",
    ":- modeb(*,sister_of(+person,-person))?\n",
    "\n",
    "Types:\n",
    "person(jane).    \n",
    "Examples:    \n",
    "aunt_of(jane,henry).    \n",
    "aunt_of(sally,jim).    \n"
   ]
  },
  {
   "cell_type": "markdown",
   "metadata": {},
   "source": [
    "## Facts"
   ]
  },
  {
   "cell_type": "markdown",
   "metadata": {},
   "source": []
  },
  {
   "cell_type": "markdown",
   "metadata": {},
   "source": [
    "## Recursion\n"
   ]
  },
  {
   "cell_type": "code",
   "execution_count": null,
   "metadata": {},
   "outputs": [],
   "source": []
  },
  {
   "cell_type": "markdown",
   "metadata": {},
   "source": [
    "## List"
   ]
  },
  {
   "cell_type": "markdown",
   "metadata": {},
   "source": [
    "delete_all([],DEL,[]).     \n",
    "delete_all([DEL|Trail], DEL, Ret) :- delete_all(Trail, DEL, Ret).    \n",
    "delete_all([HEAD|Trail],DEL,[HEAD|Ret]) :- delete_all(Trail,DEL,Ret).    \n",
    "\n",
    "replace_all([], A, B, []).    \n",
    "replace_all([A|Trail], A, B, [B|Ret]) :- replace_all(Trail, A, B, Ret).    \n",
    "replace_all([Head|Trail], A, B, [Head|Ret]) :- replace_all(Trail, A, B, Ret).    \n",
    " \n",
    "replace_all([a,b,a,c,a,d],a,mike,Result)?    \n",
    "Result = [mike,b,mike,c,mike,d]    "
   ]
  },
  {
   "cell_type": "markdown",
   "metadata": {},
   "source": [
    "Reference:    \n",
    "http://www.doc.gold.ac.uk/~mas02gw/prolog_tutorial/prologpages/index.html#menu     \n",
    "https://www.doc.ic.ac.uk/~shm/ilp_theory.html    \n",
    "https://www.doc.ic.ac.uk/~shm/progol.html        \n",
    "http://pages.cs.wisc.edu/~dpage/ilplab.html    "
   ]
  },
  {
   "cell_type": "code",
   "execution_count": null,
   "metadata": {},
   "outputs": [],
   "source": []
  }
 ],
 "metadata": {
  "kernelspec": {
   "display_name": "Python 3",
   "language": "python",
   "name": "python3"
  },
  "language_info": {
   "codemirror_mode": {
    "name": "ipython",
    "version": 3
   },
   "file_extension": ".py",
   "mimetype": "text/x-python",
   "name": "python",
   "nbconvert_exporter": "python",
   "pygments_lexer": "ipython3",
   "version": "3.6.1"
  },
  "toc": {
   "colors": {
    "hover_highlight": "#DAA520",
    "navigate_num": "#000000",
    "navigate_text": "#333333",
    "running_highlight": "#FF0000",
    "selected_highlight": "#FFD700",
    "sidebar_border": "#EEEEEE",
    "wrapper_background": "#FFFFFF"
   },
   "moveMenuLeft": true,
   "nav_menu": {
    "height": "66px",
    "width": "252px"
   },
   "navigate_menu": true,
   "number_sections": true,
   "sideBar": true,
   "threshold": 4,
   "toc_cell": false,
   "toc_section_display": "block",
   "toc_window_display": false,
   "widenNotebook": false
  }
 },
 "nbformat": 4,
 "nbformat_minor": 2
}
